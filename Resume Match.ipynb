{
 "cells": [
  {
   "cell_type": "code",
   "execution_count": 2,
   "metadata": {},
   "outputs": [],
   "source": [
    "# Install the docx2txt package\n",
    "# !pip3 install docx2txt --user\n",
    "# Import the library\n",
    "import docx2txt\n",
    "import pandas as pd"
   ]
  },
  {
   "cell_type": "markdown",
   "metadata": {},
   "source": [
    "## Import your resume and the job decreption as two separate word documents"
   ]
  },
  {
   "cell_type": "code",
   "execution_count": 6,
   "metadata": {},
   "outputs": [
    {
     "name": "stdout",
     "output_type": "stream",
     "text": [
      "Bo Pang\n",
      "\n",
      "Bopang.us@icloud.com https://www.linkedin.com/in/bo-pang-58883538/\n",
      "\n",
      "Chicago, IL • 630-814-9485\n",
      "\n",
      "Leader of Data Scientist\n",
      "\n",
      "With over ten years of experience in data science, statistics, AI/ML,\n",
      "Job Description\n",
      "\n",
      "Are you passionate about leveraging varied analytical techniques and using myriad data sources (e.g., customer attributes and behaviors, transactional history, call transcripts, digit\n"
     ]
    }
   ],
   "source": [
    "# Store the resume in a variable\n",
    "resume = docx2txt.process(\"Resume Bo Pang.docx\")\n",
    "# Print the resume\n",
    "print(resume[:200])\n",
    "\n",
    "\n",
    "# Store the job description into a variable\n",
    "job_description = docx2txt.process(\"job_description.docx\")\n",
    "\n",
    "# Print the job description\n",
    "print(job_description[:200])"
   ]
  },
  {
   "cell_type": "code",
   "execution_count": 7,
   "metadata": {},
   "outputs": [
    {
     "name": "stdout",
     "output_type": "stream",
     "text": [
      "['Bo Pang\\n\\nBopang.us@icloud.com https://www.linkedin.com/in/bo-pang-58883538/\\n\\nChicago, IL • 630-814-9485\\n\\nLeader of Data Scientist\\n\\nWith over ten years of experience in data science, statistics, AI/ML, and Python, successfully managing teams and delivering initiatives on-time and within budget. Skillfully transform marketing strategies for top-tier global clients in retail, technology, manufacturing, and media. Research market trends, consumer behaviors (Omni), product attribute contribution, and loyalty drivers executing Data Science principles and tools using Machine Learning and Data Analytics. Demonstrate excellent people skills, motivating teams and satisfying clients. Generously mentor and coach, lead and align cross-functional teams with success. Major clients include Coca-Cola, Amazon, Walmart, P&G and Wholefoods. \\n\\n\\n\\nTechnical Proficiencies\\n\\n\\n\\n\\n\\n\\n\\n\\n\\nProgramming: \\n\\nPython, SAS, R, SQL, C++, MATLAB, Spark, TensorFlow/Keras, Scikit-Learn, GitHub/Bitbucket/GitLab\\n\\nAnalytics: \\n\\nRegression, Time Series, Clustering, Decision-Tree, Hypothesis testing\\n\\nDeep Learning:\\n\\nBI/Visualization: \\n\\nData Warehouse:      \\n\\nNeuro Networks, NLP, PCA, LDA, SVM \\n\\nMicroStrategy, Power BI, QGIS\\n\\nSpark, Microsoft Azure, Snowflake\\n\\n\\n\\n\\n\\nAccomplishments\\n\\n\\n\\n\\n\\n\\n\\n\\n\\nAs the leader of a Data Science team, improve client knowledge of the value of business subscriptions versus traditional businesses by launching Machine Learning in Python program. Create customer segmentation based on the Customer Lifetime Value and predict the probability of the churn rate.\\n\\nContribute to developing a substitution recommendation system via\\xa0NLP approach over millions of product descriptions. Recommend most suitable substitutional product for digital shelf.\\n\\nIdentify loyalty flags for targeted communications by building a model with Bayesian approach to pinpoint product characteristics the most loyal customers reflected. \\n\\nLead the transition of adopting of modern API (Prophet) as new time series forecasting tool, based on an additive model controlling trend, seasonality, and holiday effects. Implement neuro network (TensorFlow/Keras) improve predictability of new item sales. Utilize a simple setup and coordinated across teams to retire legacy solutions.  \\n\\nGuide and direct demand forecasting for multiple consulting engagements (Walmart, Dollar General, Wholefoods), predicting the category demand curve impacted by COVID, identifying positive and negative categories, delivering quantitative direction on mid/long-term inventory \\n\\nCollaborate with the client in market A/B testing program, driving a cloud integration and deployment approach in producing ANCOVA automation for automating the market selection process and testing and matching post modeling validation.\\n\\nServe as the analytical lead designing a customer segmentation model over 5k+ stores to improve the beauty and wine businesses by tracking the purchasing behavior reflected in consumer profiles and characteristics, in addition to competitor landscape, geography, and assortment.\\n\\n\\n\\n\\n\\nCareer Experience\\n\\n\\n\\n\\n\\n\\n\\n\\n\\n\\tSr. Manager of Data Science, Retail, NielsenIQ, (Aug/2019 – Present) Chicago, IL\\t2014 - Present\\n\\nDrive industry-leading ML solutions to enhance business for Walmart. Manage day-to-day activities for team of data scientists and engineers in performing research, innovation, building product prototypes, and determining and executing learning algorithms to advance business decisions. Increase visibility of the team value with senior leadership and help modernize technology and solution to the latest of broader tech community.\\n\\nServe as a thought leader and talented patent creator and develop deep understanding of business needs and drive the adoption of the solution that the Data Science team deploys\\n\\nSpearhead a team in implementing machine learning algorithms, enhancing decision-making regarding pricing, product description, assortment optimization, and consumer behaviors etc.  \\n\\nScale complete computing solutions for clients by partnering with the database and application teams in the development of an algorithm to score the emerging product(patented), utilizing a demand trend and seasonality spanning over thousands of product attributes.  \\n\\nBuild a “trusted advisor” relationship with our client and drive measurable impact \\n\\nCollaborate with the product/data/engineering team by recruiting and hiring talented resources, paired with senior staff scientists for mentoring and coaching.\\n\\n\\tManager, Marketing Analytics, Nielsen (Jan/2017 – Aug-2019)\\t\\n\\nAs a marketing manager, drove end-to-end solution development to evaluate marketing effectiveness via A/B testing setup and market mix modeling. Orchestrated success in the US with a global pilot serving Asian and European markets. Guided and directed US media analytical team, improving client understanding and effectiveness of digital marketing investment. \\n\\nCollaborated with critical resources in the contract renewal process, presenting the overall plan and launching a fully automated product of A/B testing, reducing the measurement cycle by roughly 50% of time and cost.  \\n\\nBuilt relationships with client senior leadership fostering the contract renewal of a full automation product of in market measurement, reducing cycle time by 50% with similar cost reduction.\\n\\nFocusing on continual improvement and education, increased the measurement solution with multiple media partner, generating a half-million-dollar business within one year by ensuring the technical design met client needs.  \\n\\n\\tSenior Analyst, Advanced Solutions, Nielsen (Dec/2014 – Jan/2017)\\t\\n\\nConducted multiple programming initiatives to further testing, forecasting, and overall project research. Oversaw off-shore (India) consulting resources (3), assigning tasks monitoring weekly project plans and progress. Ensure quality products.\\n\\nInstrumental in driving SAS and SQL programming with multiple regressions, demand forecasting, clustering, and other customer research projects. \\n\\nConstructed predictive multivariate forecasting model over pricing, distribution, and macro economy for multiple clients by increasing growth strategies and eliminating unproductive strategies.\\n\\nLowered runtime by due to automation of the analytical solution by enhancing SAS program and enhance automatic model selection. \\n\\nProduced a predictive multivariate model include pricing, distribution, and marketing activities and recommended product strategy to clients.\\n\\n\\tEnergy Management Engineer, Telkonet, Milwaukee, WI \\t2012 – 2014\\n\\nAs a member of the development and engineering team, reporting to the CTO, delivered a variety of projects as needed. Built and tested embedded firmware and performed regression analysis support sales and marketing\\n\\nContributed to intelligent home automation products by building and testing embedded firmware on a low-power processor.\\n\\nSpearheaded regression analysis of hospitality and system performance data from a relational database.\\n\\nSuccessfully forecasted energy savings due to customer system and integration of Excel regression models into R, added visualization and insight.\\n\\nOversaw server status and case investigation with SQL-query interface, executing Over-the-Air upgrade musing Zigbee network and other tasks, using Linux.\\n\\n\\tResearch Assistant, Gas Day, Milwaukee WI \\t2009 - 2012\\n\\nConducted research and predictive models.    \\n\\nResearched weather factors and human behavioral patterns driving natural gas consumption.\\n\\nDeveloped multivariate predictive models conducting natural gas demand forecasting.\\n\\n\\n\\n\\n\\n\\n\\nEducation\\n\\n\\n\\n\\n\\n\\n\\n\\n\\n\\n\\nMaster of Science, Electrical and Computer Engineering\\n\\nMarquette University, Milwaukee, Wisconsin\\n\\n\\n\\n\\n\\n\\n\\n2 | Page\\n\\n\\n\\n2 | Page', \"Job Description\\n\\nAre you passionate about leveraging varied analytical techniques and using myriad data sources (e.g., customer attributes and behaviors, transactional history, call transcripts, digital activity, business financials) to improve product offerings? Are you ready to drive rapid experiments & strategic insights to optimize every aspect of customer experience?\\n\\nIf yes, we want you to join our upbeat and hardworking team and make a real-world difference for Fidelity’s 36 million individual investors.\\n\\nThe Team\\n\\nWe are looking for an accomplished analytics professional to be a creative and collaborative team member, helping develop and drive strategic analytical initiatives. As an indispensable member of CKSI (Customer Knowledge and Strategic Insights), you'll be embedded in a business unit and will be a part of an agile inter-disciplinary team with a diverse set of skills across analytics, engineering, and data science, partnering to optimize and personalize the Fidelity experience.\\n\\nThe team will look up to you as a senior subject matter authority in analytics & insights.\\n\\nThe\\xa0Expertise\\xa0We’re Looking For\\n\\n\\n10+ years of proven experience bringing an approach driven by data to strategic business decision making\\n\\nMBA or MS in a quantitative / technical field such as Engineering, Economics, Statistics a plus\\n\\nExperience with big data technologies / languages such as Snowflake, Hadoop, Apache Pig, Hive required\\n\\nProficiency with programming / database querying tools (R, Python, SQL, etc…) and data visualization tools (Qlik, Tableau, etc.) is required\\n\\nExperience with digital analytics using tools such as Adobe analytics is a plus.\\n\\n\\nThe\\xa0Skills\\xa0You Bring\\n\\n\\nProven track record presenting to senior executives—delivering meaningful insights through data analytics/research and then presenting sophisticated data, analyses, statistics, and research findings in a simple, clear, and meaningful way\\n\\nImmediately able to deploy industry leading analytics and research approaches\\n\\nAbility to form strategic partnerships to deliver value for key partners\\n\\nExemplify passion for your work, operating with a sense of purpose that encourages and motivates the entire team.\\n\\nNatural intellectual curiosity, initiative, and love for learning new skills and capabilities.\\n\\n\\nThe\\xa0Value\\xa0You Deliver\\n\\n\\nEmpowering customer experience and product development teams with cross-business and meaningful insights to enable objective, informed decisions\\n\\nFormulating and executing learning agendas, raising strategic and provocative questions that stretch the thinking of the team\\n\\nContinuously improving data analytics and insights capabilities and spreading that knowledge and expertise throughout the organization\"]\n"
     ]
    }
   ],
   "source": [
    "# A list of text\n",
    "text = [resume, job_description]\n",
    "\n",
    "print(text)"
   ]
  },
  {
   "cell_type": "markdown",
   "metadata": {},
   "source": [
    "## Try different method of Vectirize text"
   ]
  },
  {
   "cell_type": "code",
   "execution_count": 21,
   "metadata": {},
   "outputs": [],
   "source": [
    "from sklearn.feature_extraction.text import CountVectorizer\n",
    "from sklearn.feature_extraction.text import TfidfVectorizer\n",
    "cv = CountVectorizer()\n",
    "tfidf = TfidfVectorizer(smooth_idf=True)\n",
    "\n",
    "count_matrix1 = cv.fit_transform(text)\n",
    "count_matrix2 = tfidf.fit_transform(text)\n",
    "\n",
    "# print(count_matrix1)\n",
    "# print('---------------------------------')\n",
    "# print(count_matrix2)\n",
    "# transformer = TfidfTransformer(smooth_idf=False)\n",
    "# TfidfTransformer(smooth_idf=True)"
   ]
  },
  {
   "cell_type": "code",
   "execution_count": 23,
   "metadata": {},
   "outputs": [
    {
     "name": "stdout",
     "output_type": "stream",
     "text": [
      "\n",
      "Similarity Scores:\n",
      "[[1.         0.75081623]\n",
      " [0.75081623 1.        ]]\n",
      "[[1.         0.64567055]\n",
      " [0.64567055 1.        ]]\n"
     ]
    }
   ],
   "source": [
    "from sklearn.metrics.pairwise import cosine_similarity\n",
    "\n",
    "#Print the similarity scores\n",
    "print(\"\\nSimilarity Scores:\")\n",
    "print(cosine_similarity(count_matrix1))\n",
    "print(cosine_similarity(count_matrix2))"
   ]
  },
  {
   "cell_type": "markdown",
   "metadata": {},
   "source": [
    "# RESULT"
   ]
  },
  {
   "cell_type": "code",
   "execution_count": 24,
   "metadata": {},
   "outputs": [
    {
     "name": "stdout",
     "output_type": "stream",
     "text": [
      "Your resume matches about 69.82% of the job description.\n",
      "There seems be a gap between your experience/skills and the job poster is looking for, Please try agian!\n"
     ]
    }
   ],
   "source": [
    "#get the match percentage from average of Vector counts and Tfidf\n",
    "matchPercentage = (cosine_similarity(count_matrix1)[0][1] * 100 + cosine_similarity(count_matrix2)[0][1] * 100)/2\n",
    "matchPercentage = round(matchPercentage, 2) # round to two decimal\n",
    "print(\"Your resume matches about \"+ str(matchPercentage)+ \"% of the job description.\")\n",
    "\n",
    "if matchPercentage > 75:\n",
    "    print(\"Congratulation!, your resume matches the job well\")\n",
    "else:\n",
    "    print(\"There seems be a gap between your experience/skills and the job poster is looking for, Please try agian!\")"
   ]
  },
  {
   "cell_type": "code",
   "execution_count": null,
   "metadata": {},
   "outputs": [],
   "source": []
  }
 ],
 "metadata": {
  "kernelspec": {
   "display_name": "Python 3",
   "language": "python",
   "name": "python3"
  },
  "language_info": {
   "codemirror_mode": {
    "name": "ipython",
    "version": 3
   },
   "file_extension": ".py",
   "mimetype": "text/x-python",
   "name": "python",
   "nbconvert_exporter": "python",
   "pygments_lexer": "ipython3",
   "version": "3.7.4"
  }
 },
 "nbformat": 4,
 "nbformat_minor": 4
}
